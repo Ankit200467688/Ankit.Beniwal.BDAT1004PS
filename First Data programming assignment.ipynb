{
 "cells": [
  {
   "cell_type": "markdown",
   "metadata": {},
   "source": [
    "Question1: Data types"
   ]
  },
  {
   "cell_type": "markdown",
   "metadata": {},
   "source": [
    "Answer 1:  5   - integer\n",
    "           5.0 - float\n",
    "           5>1 - Boolean\n",
    "           '5' - String\n",
    "           5*2 - int\n",
    "         '5'*2 - String\n",
    "        '5'+'2'- string\n",
    "          5/2  - Float\n",
    "          5//2 - Float\n",
    "       [5,2,1] - Array\n",
    "         Pi    - Double"
   ]
  },
  {
   "cell_type": "markdown",
   "metadata": {},
   "source": [
    "Question2: 4 Parts question:"
   ]
  },
  {
   "cell_type": "markdown",
   "metadata": {},
   "source": [
    "Answer 2: Part A:"
   ]
  },
  {
   "cell_type": "markdown",
   "metadata": {},
   "source": [
    " using System;\n",
    "\n",
    "public class Length_str\n",
    "{\n",
    "\n",
    "\n",
    "    public static void Main()\n",
    "    {\n",
    "\n",
    "        string str = \"supercalifragiliticexpialidocious\";\n",
    "        int length = str.Length;\n",
    "        Console.WriteLine(\"The length of string is: {0}\", length);\n",
    "    }\n",
    "\n",
    "} "
   ]
  },
  {
   "cell_type": "markdown",
   "metadata": {},
   "source": [
    "Answer 2.  PartB:"
   ]
  },
  {
   "cell_type": "markdown",
   "metadata": {},
   "source": [
    "\n",
    "    \n",
    "using System;\n",
    "using System.Text.RegularExpressions;\n",
    "namespace ConsoleApp3\n",
    "{\n",
    "    class Program\n",
    "    {\n",
    "        static void Main(string[] args)\n",
    "        {\n",
    "            string str = \"The foxy fox jumps before dancing the Foxtrot.\";\n",
    "\n",
    "\n",
    "            int dCount = Regex.Matches(str, \"ice\", RegexOptions.IgnoreCase).Count;\n",
    "\n",
    "            Console.WriteLine(\"number of counts of ice is \" + dCount.ToString());\n",
    "        }\n",
    "    }\n",
    "}"
   ]
  },
  {
   "cell_type": "markdown",
   "metadata": {},
   "source": [
    "Answer 3:  Part C:"
   ]
  },
  {
   "cell_type": "markdown",
   "metadata": {},
   "source": [
    "\n",
    "\n",
    "\n",
    "using System;\n",
    "using System.Text.RegularExpressions;\n",
    "namespace ConsoleApp3\n",
    "{\n",
    "    class Program\n",
    "    {\n",
    "        static void Main(string[] args)\n",
    "        {\n",
    "\n",
    "            int flength = (\"supercalifragiliticexpialidocious\").Length;\n",
    "            int slength = (\"honorificabilitudinitatibus\").Length;\n",
    "            int tlength = (\"Bababadalgharaghtakamminarronkonn\").Length;\n",
    "\n",
    "            Console.WriteLine(\"the longest word among all three are :\\n\");\n",
    "            if (flength > slength && flength > tlength)\n",
    "            {\n",
    "                Console.WriteLine(\"supercalifragiliticexpialidocious\");\n",
    "\n",
    "            }\n",
    "\n",
    "            else if (slength > flength && slength > tlength)\n",
    "            {\n",
    "\n",
    "                Console.WriteLine(\"honorificabilitudinitatibus\");\n",
    "\n",
    "            }\n",
    "\n",
    "            else\n",
    "            {\n",
    "                Console.WriteLine(\"Bababadalgharaghtakamminarronkonn\");\n",
    "            }\n",
    "\n",
    "        }\n",
    "    }\n",
    "}"
   ]
  },
  {
   "cell_type": "markdown",
   "metadata": {},
   "source": [
    "Part D:"
   ]
  },
  {
   "cell_type": "markdown",
   "metadata": {},
   "source": [
    "\n",
    "    \n",
    "using System;\n",
    "using System.Linq;\n",
    "using System.Collections.Generic;\n",
    "namespace ConsoleApp3\n",
    "{\n",
    "    class Program\n",
    "    {\n",
    "        static void Main(string[] args)\n",
    "        {\n",
    "            List<string> Words = new List<string>()\n",
    "\n",
    "             {\n",
    "                \"Berlioz\", \"Borodin\", \"Brian\", \"Bartok\", \"Bellini\", \"Buxtehude\", \"Bernstein\"\n",
    "                    };\n",
    "            Words.Sort();\n",
    "\n",
    "            foreach (var name in Words.Distinct())\n",
    "            {\n",
    "                Console.WriteLine(name);\n",
    "            }\n",
    "\n",
    "        }\n",
    "    }\n",
    "}"
   ]
  },
  {
   "cell_type": "markdown",
   "metadata": {},
   "source": [
    "Answer 3:"
   ]
  },
  {
   "cell_type": "markdown",
   "metadata": {},
   "source": [
    "\n",
    "using System;\n",
    "\n",
    "namespace ConsoleApp1\n",
    "{\n",
    "    class Program\n",
    "    {\n",
    "        static void Main(string[] args)\n",
    "        {\n",
    "            Console.WriteLine(\"Enter value of first side\");\n",
    "            string side1 = Console.ReadLine();\n",
    "            Console.WriteLine(\"Enter value of second side\");\n",
    "            string side2 = Console.ReadLine();\n",
    "            Console.WriteLine(\"Enter value of third side\");\n",
    "            string side3 = Console.ReadLine();\n",
    "            double fstside = double.Parse(side1);\n",
    "            double sndside = double.Parse(side2);\n",
    "            double trdside = double.Parse(side3);\n",
    "            double s = (fstside + sndside + trdside) / 2.0;\n",
    "            double Area = Math.Sqrt(s * (s - fstside) * (s - sndside) * (s - trdside));\n",
    "            Console.WriteLine(\"Area={0}\", Area);\n",
    "\n",
    "        }\n",
    "    }\n",
    "}\n"
   ]
  },
  {
   "cell_type": "markdown",
   "metadata": {},
   "source": [
    "Answer 4:"
   ]
  },
  {
   "cell_type": "code",
   "execution_count": null,
   "metadata": {},
   "outputs": [],
   "source": [
    "   using System;\n",
    "\n",
    "namespace ConsoleApp1\n",
    "{\n",
    "    class Program\n",
    "    {\n",
    "        static void Main(string[] args)\n",
    "        {\n",
    "            int[] num = { 25, 42, 56, 47, 32 };\n",
    "\n",
    "            int b = 0, c = 0;\n",
    "            int[] Even = new int[5];\n",
    "            int[] odd = new int[5];\n",
    "\n",
    "            for (int a = 0; a < num.Length; a++)\n",
    "            {\n",
    "                if (num[a] % 2 == 0)\n",
    "                {\n",
    "                    Even[b] = num[a];\n",
    "                    b++;\n",
    "                }\n",
    "                else\n",
    "                {\n",
    "                    odd[c] = num[a];\n",
    "                    c++;\n",
    "                }\n",
    "\n",
    "            }\n",
    "            Console.Write(\"The even elements are:\\n\");\n",
    "            for (int a = 0; a < b; a++)\n",
    "            {\n",
    "                Console.Write(\" {0} \", Even[a]);\n",
    "            }\n",
    "            Console.Write(\"\\n The odd elements are:\\n\");\n",
    "            for (int a = 0; a < c; a++)\n",
    "            {\n",
    "                Console.Write(\" {0} \", odd[a]);\n",
    "            }\n",
    "        }\n",
    "\n",
    "    }\n",
    "}"
   ]
  },
  {
   "cell_type": "markdown",
   "metadata": {},
   "source": [
    "Answer 5. Part 1A"
   ]
  },
  {
   "cell_type": "code",
   "execution_count": null,
   "metadata": {},
   "outputs": [],
   "source": [
    "using System;\n",
    "\n",
    "public class Rectangle\n",
    "{\n",
    "\n",
    "\n",
    "    static bool inside(int x, int y, int x1, int y1, int x2,\n",
    "                  int y2)\n",
    "    {\n",
    "        if (x > x1 && x < x2 &&\n",
    "            y > y1 && y < y2)\n",
    "            return true;\n",
    "\n",
    "        return false;\n",
    "    }\n",
    "    public static void Main()\n",
    "    {\n",
    "        int x = 1, y = 1;\n",
    "\n",
    "        int x1 = 0, y1 = 0,\n",
    "            x2 = 2, y2 = 3;\n",
    "\n",
    "        if (inside(x, y, x1, y1, x2, y2))\n",
    "            Console.Write(\"True\");\n",
    "        else\n",
    "            Console.Write(\"False\");\n",
    "\n",
    "    }\n",
    "\n",
    "}\n"
   ]
  },
  {
   "cell_type": "markdown",
   "metadata": {},
   "source": [
    "Answer 5. Part 1B"
   ]
  },
  {
   "cell_type": "code",
   "execution_count": null,
   "metadata": {},
   "outputs": [],
   "source": [
    "using System;\n",
    "\n",
    "public class Rectangle\n",
    "{\n",
    "\n",
    "\n",
    "    static bool inside(int x, int y, int x1, int y1, int x2,\n",
    "                  int y2)\n",
    "    {\n",
    "        if (x > x1 && x < x2 &&\n",
    "            y > y1 && y < y2)\n",
    "            return true;\n",
    "\n",
    "        return false;\n",
    "    }\n",
    "    public static void Main()\n",
    "    {\n",
    "        int x = -1, y = -1;\n",
    "\n",
    "        int x1 = 0, y1 = 0,\n",
    "            x2 = 2, y2 = 3;\n",
    "\n",
    "        if (inside(x, y, x1, y1, x2, y2))\n",
    "            Console.Write(\"True\");\n",
    "        else\n",
    "            Console.Write(\"False\");\n",
    "\n",
    "    }\n",
    "\n",
    "}"
   ]
  },
  {
   "cell_type": "markdown",
   "metadata": {},
   "source": [
    "Answer 5. Part 2"
   ]
  },
  {
   "cell_type": "code",
   "execution_count": null,
   "metadata": {},
   "outputs": [],
   "source": [
    "\n",
    "using System;\n",
    "\n",
    "public class Rectangle\n",
    "{\n",
    "\n",
    "\n",
    "    static bool inside(int x, int y, float x1, float y1, float x2,\n",
    "                  float y2, float x3, float y3, float x4, float y4)\n",
    "    {\n",
    "        if (x > x1 && x < x2 && x > x3 && x < x4 &&\n",
    "            y > y1 && y < y2 && y > y3 && y < y4)\n",
    "            return true;\n",
    "\n",
    "        return false;\n",
    "    }\n",
    "    public static void Main()\n",
    "    {\n",
    "        int x = 1, y = 1;\n",
    "\n",
    "        float x1 = 0.3f, y1 = 0.5f,\n",
    "              x2 = 1.1f, y2 = 0.7f,\n",
    "              x3 = 0.5f, y3 = 0.2f,\n",
    "              x4 = 1.1f, y4 = 2f;\n",
    "\n",
    "        if (inside(x, y, x1, y1, x2, y2, x3, y3, x4, y4))\n",
    "            Console.Write(\"True\");\n",
    "        else\n",
    "            Console.Write(\"False\");\n",
    "\n",
    "    }\n",
    "\n",
    "}\n",
    "\n"
   ]
  },
  {
   "cell_type": "markdown",
   "metadata": {},
   "source": [
    "Answer 6:"
   ]
  },
  {
   "cell_type": "code",
   "execution_count": 12,
   "metadata": {},
   "outputs": [
    {
     "name": "stdout",
     "output_type": "stream",
     "text": [
      " Type your word to convert into pig version : Happy\n",
      "appyhay\n"
     ]
    }
   ],
   "source": [
    "\n",
    "pig = input(\" Type your word to convert into pig version : \")\n",
    "words = pig.lower().split(\" \")\n",
    "vowels = ['a', 'e', 'i', 'o', 'u']\n",
    "pig = []\n",
    "eachWord = []\n",
    "for word in words:\n",
    "    if word[0] in 'aeiou': \n",
    "        pig.append(word + 'yay')\n",
    "    if word[0] not in 'aeiou':\n",
    "        for letter in word:\n",
    "            if letter in 'aeiou':\n",
    "                pig.append(word[word.index(letter):] + word[:word.index(letter)] +'ay')\n",
    "\n",
    "\n",
    "print(\" \".join(pig))\n"
   ]
  },
  {
   "cell_type": "code",
   "execution_count": 13,
   "metadata": {},
   "outputs": [
    {
     "name": "stdout",
     "output_type": "stream",
     "text": [
      " Type your word to convert into pig version : Enter\n",
      "enteryay\n"
     ]
    }
   ],
   "source": [
    "pig = input(\" Type your word to convert into pig version : \")\n",
    "words = pig.lower().split(\" \")\n",
    "vowels = ['a', 'e', 'i', 'o', 'u']\n",
    "pig = []\n",
    "eachWord = []\n",
    "for word in words:\n",
    "    if word[0] in 'aeiou': \n",
    "        pig.append(word + 'yay')\n",
    "    if word[0] not in 'aeiou':\n",
    "        for letter in word:\n",
    "            if letter in 'aeiou':\n",
    "                pig.append(word[word.index(letter):] + word[:word.index(letter)] +'ay')\n",
    "\n",
    "\n",
    "print(\" \".join(pig))"
   ]
  },
  {
   "cell_type": "markdown",
   "metadata": {},
   "source": [
    "Answer 7:"
   ]
  },
  {
   "cell_type": "code",
   "execution_count": 31,
   "metadata": {},
   "outputs": [
    {
     "name": "stdout",
     "output_type": "stream",
     "text": [
      "There are  0  patients of blood type A\n",
      "There are  0  patients of blood type B\n",
      "There are  0  patients of blood type AB\n",
      "There are  0  patients of blood type O\n",
      "There are  0  patients of blood type OO\n"
     ]
    }
   ],
   "source": [
    "\n",
    "\n",
    "# open a file\n",
    "with open (\"E:/Studies/Classes/Sem1/Data Programming(1004)/Class/Assignemeent/Set problem 1/Blood_group.txt\", \"w+\") as f:\n",
    "\n",
    "# read data\n",
    "    f.readline()\n",
    "\n",
    "#  Getting the output\n",
    "    AB = 0\n",
    "    A = 0\n",
    "    B = 0\n",
    "    O = 0\n",
    "    OO= 0\n",
    "\n",
    "    for line in f:\n",
    "\n",
    "        blood_group = line.split(\" \")[18]\n",
    "        \n",
    "        if blood_group == 'AB' :\n",
    "            AB += 1\n",
    "        elif blood_group == 'A' :\n",
    "            A += 1\n",
    "        elif blood_group == 'B' :\n",
    "            B += 1\n",
    "        elif blood_group == 'O' :\n",
    "            O += 1\n",
    "        else :\n",
    "            OO += 1\n",
    "\n",
    "#6\n",
    "print(\"There are \", A, \" patients of blood type A\")\n",
    "print(\"There are \", A, \" patients of blood type B\")\n",
    "print(\"There are \", AB, \" patients of blood type AB\")\n",
    "print(\"There are \", O, \" patients of blood type O\")\n",
    "print(\"There are \", OO, \" patients of blood type OO\")\n",
    "\n",
    "\n",
    "f.close()"
   ]
  },
  {
   "cell_type": "markdown",
   "metadata": {},
   "source": [
    "Answer 8:"
   ]
  },
  {
   "cell_type": "code",
   "execution_count": 36,
   "metadata": {},
   "outputs": [],
   "source": [
    "import pandas as pd\n",
    "\n",
    "Cur_fil=pd.read_csv(\"E:/Studies/Classes/Sem1/Data Programming(1004)/Class/Assignemeent/Set problem 1/CurrencyFile.csv\", header = None)\n",
    "\n",
    "Cur_file=Cur_fil.rename(columns={0:'Currency',1:'Conversion',2:'Description'})\n",
    "\n",
    "def curconv(Unit, Amount):\n",
    "    Rate=Cur_file.loc[Cur_file['Currency'] == Unit, 'Conversion'].values\n",
    "    return Rate*Amount\n",
    "\n",
    "  \n"
   ]
  },
  {
   "cell_type": "code",
   "execution_count": 37,
   "metadata": {},
   "outputs": [
    {
     "name": "stdout",
     "output_type": "stream",
     "text": [
      "[1.241401]\n"
     ]
    }
   ],
   "source": [
    "  print(curconv('JPY',100))"
   ]
  },
  {
   "cell_type": "code",
   "execution_count": 38,
   "metadata": {},
   "outputs": [
    {
     "name": "stdout",
     "output_type": "stream",
     "text": [
      "[122.96544]\n"
     ]
    }
   ],
   "source": [
    "  print(curconv('EUR',100))"
   ]
  },
  {
   "cell_type": "markdown",
   "metadata": {},
   "source": [
    "Answer9:"
   ]
  },
  {
   "cell_type": "code",
   "execution_count": 44,
   "metadata": {
    "scrolled": true
   },
   "outputs": [
    {
     "ename": "TypeError",
     "evalue": "unsupported operand type(s) for +: 'int' and 'str'",
     "output_type": "error",
     "traceback": [
      "\u001b[1;31m---------------------------------------------------------------------------\u001b[0m",
      "\u001b[1;31mTypeError\u001b[0m                                 Traceback (most recent call last)",
      "\u001b[1;32m<ipython-input-44-7815ec48973b>\u001b[0m in \u001b[0;36m<module>\u001b[1;34m\u001b[0m\n\u001b[1;32m----> 1\u001b[1;33m \u001b[1;36m6\u001b[0m\u001b[1;33m+\u001b[0m\u001b[1;34m'a'\u001b[0m\u001b[1;33m\u001b[0m\u001b[1;33m\u001b[0m\u001b[0m\n\u001b[0m",
      "\u001b[1;31mTypeError\u001b[0m: unsupported operand type(s) for +: 'int' and 'str'"
     ]
    }
   ],
   "source": [
    "6+'a'"
   ]
  },
  {
   "cell_type": "code",
   "execution_count": 59,
   "metadata": {},
   "outputs": [
    {
     "ename": "IndexError",
     "evalue": "list index out of range",
     "output_type": "error",
     "traceback": [
      "\u001b[1;31m---------------------------------------------------------------------------\u001b[0m",
      "\u001b[1;31mIndexError\u001b[0m                                Traceback (most recent call last)",
      "\u001b[1;32m<ipython-input-59-086f4f6fd130>\u001b[0m in \u001b[0;36m<module>\u001b[1;34m\u001b[0m\n\u001b[0;32m      1\u001b[0m \u001b[0mlist\u001b[0m \u001b[1;33m=\u001b[0m\u001b[1;33m[\u001b[0m\u001b[1;36m1\u001b[0m\u001b[1;33m,\u001b[0m\u001b[1;36m2\u001b[0m\u001b[1;33m,\u001b[0m\u001b[1;36m3\u001b[0m\u001b[1;33m,\u001b[0m\u001b[1;36m4\u001b[0m\u001b[1;33m,\u001b[0m\u001b[1;36m5\u001b[0m\u001b[1;33m,\u001b[0m\u001b[1;36m6\u001b[0m\u001b[1;33m,\u001b[0m\u001b[1;36m7\u001b[0m\u001b[1;33m,\u001b[0m\u001b[1;36m8\u001b[0m\u001b[1;33m,\u001b[0m\u001b[1;36m9\u001b[0m\u001b[1;33m,\u001b[0m\u001b[1;36m10\u001b[0m\u001b[1;33m]\u001b[0m\u001b[1;33m;\u001b[0m\u001b[1;33m\u001b[0m\u001b[1;33m\u001b[0m\u001b[0m\n\u001b[1;32m----> 2\u001b[1;33m \u001b[0mprint\u001b[0m\u001b[1;33m(\u001b[0m\u001b[0mlist\u001b[0m\u001b[1;33m[\u001b[0m\u001b[1;36m11\u001b[0m\u001b[1;33m]\u001b[0m\u001b[1;33m)\u001b[0m\u001b[1;33m\u001b[0m\u001b[1;33m\u001b[0m\u001b[0m\n\u001b[0m",
      "\u001b[1;31mIndexError\u001b[0m: list index out of range"
     ]
    }
   ],
   "source": [
    "list =[1,2,3,4,5,6,7,8,9,10];\n",
    "print(list[11]) "
   ]
  },
  {
   "cell_type": "code",
   "execution_count": 60,
   "metadata": {},
   "outputs": [
    {
     "ename": "ValueError",
     "evalue": "math domain error",
     "output_type": "error",
     "traceback": [
      "\u001b[1;31m---------------------------------------------------------------------------\u001b[0m",
      "\u001b[1;31mValueError\u001b[0m                                Traceback (most recent call last)",
      "\u001b[1;32m<ipython-input-60-88c904dd9913>\u001b[0m in \u001b[0;36m<module>\u001b[1;34m\u001b[0m\n\u001b[0;32m      1\u001b[0m \u001b[1;32mimport\u001b[0m \u001b[0mmath\u001b[0m \u001b[1;32mas\u001b[0m \u001b[0mmath\u001b[0m\u001b[1;33m\u001b[0m\u001b[1;33m\u001b[0m\u001b[0m\n\u001b[1;32m----> 2\u001b[1;33m \u001b[0mmath\u001b[0m\u001b[1;33m.\u001b[0m\u001b[0msqrt\u001b[0m\u001b[1;33m(\u001b[0m\u001b[1;33m-\u001b[0m\u001b[1;36m1.0\u001b[0m\u001b[1;33m)\u001b[0m\u001b[1;33m\u001b[0m\u001b[1;33m\u001b[0m\u001b[0m\n\u001b[0m",
      "\u001b[1;31mValueError\u001b[0m: math domain error"
     ]
    }
   ],
   "source": [
    "import math as math\n",
    "math.sqrt(-1.0)"
   ]
  },
  {
   "cell_type": "code",
   "execution_count": 62,
   "metadata": {},
   "outputs": [
    {
     "ename": "NameError",
     "evalue": "name 't' is not defined",
     "output_type": "error",
     "traceback": [
      "\u001b[1;31m---------------------------------------------------------------------------\u001b[0m",
      "\u001b[1;31mNameError\u001b[0m                                 Traceback (most recent call last)",
      "\u001b[1;32m<ipython-input-62-febd3e668534>\u001b[0m in \u001b[0;36m<module>\u001b[1;34m\u001b[0m\n\u001b[1;32m----> 1\u001b[1;33m \u001b[0mprint\u001b[0m\u001b[1;33m(\u001b[0m\u001b[0mt\u001b[0m\u001b[1;33m)\u001b[0m\u001b[1;33m\u001b[0m\u001b[1;33m\u001b[0m\u001b[0m\n\u001b[0m",
      "\u001b[1;31mNameError\u001b[0m: name 't' is not defined"
     ]
    }
   ],
   "source": [
    "print(t)"
   ]
  },
  {
   "cell_type": "code",
   "execution_count": 63,
   "metadata": {},
   "outputs": [
    {
     "ename": "FileNotFoundError",
     "evalue": "[Errno 2] No such file or directory: 'C:\\\\Users\\\\DELL\\\\Desktop\\\\Abc.text'",
     "output_type": "error",
     "traceback": [
      "\u001b[1;31m---------------------------------------------------------------------------\u001b[0m",
      "\u001b[1;31mFileNotFoundError\u001b[0m                         Traceback (most recent call last)",
      "\u001b[1;32m<ipython-input-63-621ae9777ae3>\u001b[0m in \u001b[0;36m<module>\u001b[1;34m\u001b[0m\n\u001b[1;32m----> 1\u001b[1;33m \u001b[0mf\u001b[0m\u001b[1;33m=\u001b[0m\u001b[0mopen\u001b[0m\u001b[1;33m(\u001b[0m\u001b[1;34m\"C:\\\\Users\\\\DELL\\\\Desktop\\\\Abc.text\"\u001b[0m\u001b[1;33m,\u001b[0m\u001b[1;34m\"r\"\u001b[0m\u001b[1;33m)\u001b[0m\u001b[1;33m\u001b[0m\u001b[1;33m\u001b[0m\u001b[0m\n\u001b[0m",
      "\u001b[1;31mFileNotFoundError\u001b[0m: [Errno 2] No such file or directory: 'C:\\\\Users\\\\DELL\\\\Desktop\\\\Abc.text'"
     ]
    }
   ],
   "source": [
    "f=open(\"C:\\\\Users\\\\DELL\\\\Desktop\\\\Abc.text\",\"r\")"
   ]
  },
  {
   "cell_type": "markdown",
   "metadata": {},
   "source": [
    "Answer 10:"
   ]
  },
  {
   "cell_type": "code",
   "execution_count": 39,
   "metadata": {},
   "outputs": [],
   "source": [
    "\n",
    "def frequencies(sentence):\n",
    "    alphabet = 'abcdefghijklmnopqrstuvwxyz'\n",
    "    freqs = []\n",
    "    for char in alphabet:\n",
    "        freqs.append(sentence.count(char))\n",
    "    \n",
    "    return freqs\n"
   ]
  },
  {
   "cell_type": "code",
   "execution_count": 41,
   "metadata": {},
   "outputs": [
    {
     "data": {
      "text/plain": [
       "[1, 0, 0, 0, 1, 0, 0, 0, 0, 0, 0, 1, 0, 0, 0, 2, 0, 0, 0, 0, 0, 0, 0, 0, 0, 0]"
      ]
     },
     "execution_count": 41,
     "metadata": {},
     "output_type": "execute_result"
    }
   ],
   "source": [
    "frequencies('apple')"
   ]
  },
  {
   "cell_type": "code",
   "execution_count": 43,
   "metadata": {},
   "outputs": [
    {
     "data": {
      "text/plain": [
       "[1, 1, 1, 3, 5, 1, 1, 2, 1, 0, 1, 0, 1, 2, 4, 0, 1, 2, 0, 2, 1, 0, 1, 1, 0, 0]"
      ]
     },
     "execution_count": 43,
     "metadata": {},
     "output_type": "execute_result"
    }
   ],
   "source": [
    "frequencies('The quick red fox got bored and went home')"
   ]
  }
 ],
 "metadata": {
  "kernelspec": {
   "display_name": "Python 3",
   "language": "python",
   "name": "python3"
  },
  "language_info": {
   "codemirror_mode": {
    "name": "ipython",
    "version": 3
   },
   "file_extension": ".py",
   "mimetype": "text/x-python",
   "name": "python",
   "nbconvert_exporter": "python",
   "pygments_lexer": "ipython3",
   "version": "3.8.5"
  }
 },
 "nbformat": 4,
 "nbformat_minor": 4
}
